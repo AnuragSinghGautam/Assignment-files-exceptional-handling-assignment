{
  "nbformat": 4,
  "nbformat_minor": 0,
  "metadata": {
    "colab": {
      "provenance": []
    },
    "kernelspec": {
      "name": "python3",
      "display_name": "Python 3"
    },
    "language_info": {
      "name": "python"
    }
  },
  "cells": [
    {
      "cell_type": "markdown",
      "source": [
        "# **Files & Exceptional Handling**\n",
        "\n",
        "**1. Discuss the scenarios where multithreading is preferable to multiprocessing and scenarios where multiprocessing is a better choice**\n",
        "\n",
        "Ans.\n",
        "\n",
        "**Multithreading** is more efficient for I/O-bound tasks that wait for external resources, such as web scraping multiple websites. It also offers low CPU overhead when the task doesn't heavily use the CPU. Additionally, it's better for shared memory tasks where threads need to share memory and data efficiently.\n",
        "\n",
        "**Multiprocessing** is ideal for heavy computation tasks like large-scale data processing or scientific computation, as it fully utilizes multiple CPU cores without Python's Global Interpreter Lock. It's also beneficial for independent tasks where each process has its own memory space."
      ],
      "metadata": {
        "id": "Im3UGGbIRMpD"
      }
    },
    {
      "cell_type": "markdown",
      "source": [
        "___\n",
        "**2. Describe what a process pool is and how it helps in managing multiple processes efficiently.**\n",
        "\n",
        "Ans.\n",
        "\n",
        "A process pool is a collection of worker processes used to execute tasks concurrently in parallel, allowing efficient management of a fixed number of processes and reducing the overhead of creating and destroying processes repeatedly. It reduces the overhead of spawning new processes and efficiently uses system resources by limiting the number of concurrently running processes."
      ],
      "metadata": {
        "id": "Kj-b9JXbRpKV"
      }
    },
    {
      "cell_type": "markdown",
      "source": [
        "___\n",
        "**3. Explain what multiprocessing is and why it is used in Python programs.**\n",
        "\n",
        "Ans.\n",
        "\n",
        "Multiprocessing in Python allows for the simultaneous execution of multiple processes, bypassing the limitations of the GIL. This feature is particularly useful for CPU-bound tasks requiring significant computation, enhancing performance in tasks like data processing, numerical computation, and simulations."
      ],
      "metadata": {
        "id": "qr-Pyj6tRz52"
      }
    },
    {
      "cell_type": "markdown",
      "source": [
        "___\n",
        "**4. Write a Python program using multithreading where one thread adds numbers to a list, and another\n",
        "thread removes numbers from the list. Implement a mechanism to avoid race conditions using threading.Lock.**\n",
        "\n",
        "Ans.\n",
        "\n"
      ],
      "metadata": {
        "id": "jwaetj8IR8LO"
      }
    },
    {
      "cell_type": "code",
      "source": [
        "import threading\n",
        "import time\n",
        "\n",
        "my_list = []\n",
        "lock = threading.Lock()\n",
        "\n",
        "def add_to_list():\n",
        "    for i in range(10):\n",
        "        time.sleep(1)\n",
        "        lock.acquire()\n",
        "        my_list.append(i)\n",
        "        print(f\"Added {i}\")\n",
        "        lock.release()\n",
        "\n",
        "def remove_from_list():\n",
        "    for i in range(10):\n",
        "        time.sleep(1.5)\n",
        "        lock.acquire()\n",
        "        if my_list:\n",
        "            removed = my_list.pop(0)\n",
        "            print(f\"Removed {removed}\")\n",
        "        lock.release()\n",
        "\n",
        "t1 = threading.Thread(target=add_to_list)\n",
        "t2 = threading.Thread(target=remove_from_list)\n",
        "\n",
        "t1.start()\n",
        "t2.start()\n",
        "\n",
        "t1.join()\n",
        "t2.join()\n",
        "\n",
        "print(f\"Final list: {my_list}\")\n"
      ],
      "metadata": {
        "colab": {
          "base_uri": "https://localhost:8080/"
        },
        "id": "NVe9C-Y4SJuA",
        "outputId": "bec38984-217e-4fa6-edee-2bf29d61e609"
      },
      "execution_count": 1,
      "outputs": [
        {
          "output_type": "stream",
          "name": "stdout",
          "text": [
            "Added 0\n",
            "Removed 0\n",
            "Added 1\n",
            "Removed 1\n",
            "Added 2\n",
            "Added 3\n",
            "Removed 2\n",
            "Added 4\n",
            "Added 5\n",
            "Removed 3\n",
            "Added 6\n",
            "Removed 4\n",
            "Added 7\n",
            "Removed 5\n",
            "Added 8\n",
            "Added 9\n",
            "Removed 6\n",
            "Removed 7\n",
            "Removed 8\n",
            "Removed 9\n",
            "Final list: []\n"
          ]
        }
      ]
    },
    {
      "cell_type": "markdown",
      "source": [
        "___\n",
        "**5. Describe the methods and tools available in Python for safely sharing data between threads and\n",
        "processes.**\n",
        "\n",
        "Ans.\n",
        "\n",
        "**Threads** use thread.Lock, thread.RLock, and thread.Event to secure shared data access, acquire it multiple times, and signal execution.\n",
        "\n",
        "**Processes**\n",
        "\n",
        "Multiprocessing.Queue, Pipe, and Manager are FIFO queues, two-way communication channels, and objects shared between processes, facilitating inter-process communication."
      ],
      "metadata": {
        "id": "FQaDlnLtSUm1"
      }
    },
    {
      "cell_type": "markdown",
      "source": [
        "___\n",
        "**6. Discuss why it’s crucial to handle exceptions in concurrent programs and the techniques available for doing so.**\n",
        "\n",
        "Ans.\n",
        "\n",
        "Handling exceptions in concurrent programs is crucial as unhandled exceptions can impact program stability or cause data corruption. Techniques include try-except blocks and the concurrent.futures module, which raises exceptions during execution."
      ],
      "metadata": {
        "id": "RVaLtBWvS0eM"
      }
    },
    {
      "cell_type": "code",
      "source": [
        "from concurrent.futures import ThreadPoolExecutor\n",
        "\n",
        "def faulty_task(n):\n",
        "    if n == 5:\n",
        "        raise ValueError(\"Error on 5\")\n",
        "    return n * n\n",
        "\n",
        "with ThreadPoolExecutor() as executor:\n",
        "    futures = [executor.submit(faulty_task, i) for i in range(10)]\n",
        "\n",
        "    for future in futures:\n",
        "        try:\n",
        "            print(future.result())\n",
        "        except Exception as e:\n",
        "            print(f\"Exception occurred: {e}\")\n"
      ],
      "metadata": {
        "colab": {
          "base_uri": "https://localhost:8080/"
        },
        "id": "Kvz61ot7S_q3",
        "outputId": "3c85c22c-c9a5-458d-8f5c-e010ed25a1bf"
      },
      "execution_count": 2,
      "outputs": [
        {
          "output_type": "stream",
          "name": "stdout",
          "text": [
            "0\n",
            "1\n",
            "4\n",
            "9\n",
            "16\n",
            "Exception occurred: Error on 5\n",
            "36\n",
            "49\n",
            "64\n",
            "81\n"
          ]
        }
      ]
    },
    {
      "cell_type": "markdown",
      "source": [
        "___\n",
        "**7. Create a program that uses a thread pool to calculate the factorial of numbers from 1 to 10 concurrently.\n",
        "Use concurrent.futures.ThreadPoolExecutor to manage the threads.**\n",
        "\n",
        "Ans.\n",
        "\n",
        "\n"
      ],
      "metadata": {
        "id": "EtWcvC52TDyA"
      }
    },
    {
      "cell_type": "code",
      "source": [
        "from concurrent.futures import ThreadPoolExecutor\n",
        "import math\n",
        "\n",
        "def factorial(n):\n",
        "    return math.factorial(n)\n",
        "\n",
        "numbers = range(1, 11)\n",
        "\n",
        "with ThreadPoolExecutor() as executor:\n",
        "    results = executor.map(factorial, numbers)\n",
        "\n",
        "print(list(results))\n"
      ],
      "metadata": {
        "colab": {
          "base_uri": "https://localhost:8080/"
        },
        "id": "_in1OMJeTKJI",
        "outputId": "2d9bc115-8ba8-41e0-d98e-d374bbd1597f"
      },
      "execution_count": 3,
      "outputs": [
        {
          "output_type": "stream",
          "name": "stdout",
          "text": [
            "[1, 2, 6, 24, 120, 720, 5040, 40320, 362880, 3628800]\n"
          ]
        }
      ]
    },
    {
      "cell_type": "markdown",
      "source": [
        "___\n",
        "**8. Create a Python program that uses multiprocessing.Pool to compute the square of numbers from 1 to 10 in\n",
        "parallel. Measure the time taken to perform this computation using a pool of different sizes (e.g., 2, 4, 8\n",
        "processes).**\n",
        "\n",
        "Ans."
      ],
      "metadata": {
        "id": "L-FK70KpTN1D"
      }
    },
    {
      "cell_type": "code",
      "source": [
        "from multiprocessing import Pool\n",
        "import time\n",
        "\n",
        "def square(n):\n",
        "    return n * n\n",
        "\n",
        "if __name__ == '__main__':\n",
        "    numbers = range(1, 11)\n",
        "\n",
        "    for pool_size in [2, 4, 8]:\n",
        "        start_time = time.time()\n",
        "\n",
        "        with Pool(pool_size) as pool:\n",
        "            results = pool.map(square, numbers)\n",
        "\n",
        "        end_time = time.time()\n",
        "\n",
        "        print(f\"Pool Size: {pool_size}, Time Taken: {end_time - start_time:.4f} seconds\")\n",
        "        print(f\"Results: {results}\")\n"
      ],
      "metadata": {
        "colab": {
          "base_uri": "https://localhost:8080/"
        },
        "id": "jjCPgTtRT1AR",
        "outputId": "021e1443-a7e8-4cd9-a310-a8be3db75125"
      },
      "execution_count": 4,
      "outputs": [
        {
          "output_type": "stream",
          "name": "stdout",
          "text": [
            "Pool Size: 2, Time Taken: 0.0313 seconds\n",
            "Results: [1, 4, 9, 16, 25, 36, 49, 64, 81, 100]\n",
            "Pool Size: 4, Time Taken: 0.0527 seconds\n",
            "Results: [1, 4, 9, 16, 25, 36, 49, 64, 81, 100]\n",
            "Pool Size: 8, Time Taken: 0.0754 seconds\n",
            "Results: [1, 4, 9, 16, 25, 36, 49, 64, 81, 100]\n"
          ]
        }
      ]
    }
  ]
}